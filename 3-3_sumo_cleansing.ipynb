{
 "cells": [
  {
   "cell_type": "code",
   "execution_count": 2,
   "metadata": {},
   "outputs": [],
   "source": [
    "#ライブラリのインポート\n",
    "from bs4 import BeautifulSoup\n",
    "import re #不要文字削除\n",
    "import requests\n",
    "from time import sleep\n",
    "import pandas as pd\n",
    "import gspread \n",
    "from oauth2client.service_account import ServiceAccountCredentials"
   ]
  },
  {
   "cell_type": "code",
   "execution_count": 3,
   "metadata": {},
   "outputs": [
    {
     "name": "stdout",
     "output_type": "stream",
     "text": [
      "9\n"
     ]
    }
   ],
   "source": [
    "# 最後のページの数値を取得\n",
    "#引用先のURL（東京駅まで電車で20分以内、最寄駅から徒歩5分以内、家賃25万以内、2K/2DK/2LDKで検索）\n",
    "url = \"https://suumo.jp/jj/chintai/ichiran/FR301FC001/?ar=030&ta=13&bs=040&ekInput=25620&tj=20&nk=-1&ct=25.0&cb=0.0&md=05&md=06&md=07&et=5&mt=9999999&mb=0&cn=9999999&shkr1=03&shkr2=03&shkr3=03&shkr4=03&fw2=&pc=30\"\n",    
    "res = requests.get(url)\n",
    "res.encoding = 'utf-8'\n",
    "soup = BeautifulSoup(res.text, 'html.parser') #取得したHTMLをBeautifulSoupで解析\n",
    "page_elements = soup.select(\"ol.pagination-parts a\")\n",
    "page_numbers = [int(element.text) for element in page_elements]\n",
    "last_page = max(page_numbers)\n",
    "print(last_page)"
   ]
  },
  {
   "cell_type": "code",
   "execution_count": 4,
   "metadata": {},
   "outputs": [],
   "source": [
    "#空のリストを作成\n",
    "data_list = []"
   ]
  },
  {
   "cell_type": "code",
   "execution_count": 5,
   "metadata": {},
   "outputs": [],
   "source": [
    "# 正常にHTML情報が取得できるか確認してからデータ取得開始\n",
    "if res.status_code == 200:\n",
    "\n",
    "    #全ページのデータ取得\n",
    "    for page in range(1, last_page +1): \n",
    "        target_url = url.format(page)\n",
    "        res = requests.get(target_url) #requestを使ってURLにアクセス\n",
    "        sleep(1) #相手サイトの負荷軽減\n",
    "        res.encoding = 'utf-8' #文字化け防止\n",
    "        soup = BeautifulSoup(res.text, 'html.parser') #取得したHTMLをBeautifulSoupで解析\n",
    "        contents = soup.find_all('div', class_= 'cassetteitem') #全ての物件情報取得\n",
    "\n",
    "        #物件・部屋情報の取得\n",
    "        for content in contents:\n",
    "            detail = content.find('div', class_='cassetteitem-detail') #物件情報\n",
    "            table = content.find('table', class_='cassetteitem_other') #部屋情報\n",
    "\n",
    "            #物件情報から必要情報を取得\n",
    "            name = detail.find('div', class_='cassetteitem_content-title').text\n",
    "            address = detail.find('li', class_='cassetteitem_detail-col1').text\n",
    "\n",
    "            #部屋情報を取得\n",
    "            tr_tags = table.find_all('tr', class_='js-cassette_link')\n",
    "            for tr_tag in tr_tags:\n",
    "                #部屋情報から必要情報を取得\n",
    "                floor, price, first_fee, capacity = tr_tag.find_all('td')[2:6]\n",
    "                #さらに細かい情報取得\n",
    "                rent, administration = price.find_all('li')\n",
    "                deposit, gratuity = first_fee.find_all('li')\n",
    "                madori, menseki = capacity.find_all('li')\n",
    "                #取得した全ての情報を辞書に格納\n",
    "                data = {\n",
    "                    'name' : name,\n",
    "                    'address' : address,\n",
    "                    'floor': floor.text,\n",
    "                    'rent' : rent.text,\n",
    "                    'administration' : administration.text,\n",
    "                    'deposit' : deposit.text,\n",
    "                    'gratuity' : gratuity.text,\n",
    "                    'madori' : madori.text,\n",
    "                    'menseki' : menseki.text\n",
    "                }\n",
    "                #取得した辞書を格納\n",
    "                data_list.append(data)"
   ]
  },
  {
   "cell_type": "code",
   "execution_count": 6,
   "metadata": {},
   "outputs": [],
   "source": [
    "#データフレームを作成\n",
    "df = pd.DataFrame(data_list)"
   ]
  },
  {
   "cell_type": "code",
   "execution_count": 7,
   "metadata": {},
   "outputs": [
    {
     "data": {
      "text/plain": [
       "name              object\n",
       "address           object\n",
       "floor             object\n",
       "rent              object\n",
       "administration    object\n",
       "deposit           object\n",
       "gratuity          object\n",
       "madori            object\n",
       "menseki           object\n",
       "dtype: object"
      ]
     },
     "execution_count": 7,
     "metadata": {},
     "output_type": "execute_result"
    }
   ],
   "source": [
    "df.dtypes #データ型確認"
   ]
  },
  {
   "cell_type": "code",
   "execution_count": 8,
   "metadata": {},
   "outputs": [
    {
     "data": {
      "text/html": [
       "<div>\n",
       "<style scoped>\n",
       "    .dataframe tbody tr th:only-of-type {\n",
       "        vertical-align: middle;\n",
       "    }\n",
       "\n",
       "    .dataframe tbody tr th {\n",
       "        vertical-align: top;\n",
       "    }\n",
       "\n",
       "    .dataframe thead th {\n",
       "        text-align: right;\n",
       "    }\n",
       "</style>\n",
       "<table border=\"1\" class=\"dataframe\">\n",
       "  <thead>\n",
       "    <tr style=\"text-align: right;\">\n",
       "      <th></th>\n",
       "      <th>name</th>\n",
       "      <th>address</th>\n",
       "      <th>floor</th>\n",
       "      <th>rent</th>\n",
       "      <th>administration</th>\n",
       "      <th>deposit</th>\n",
       "      <th>gratuity</th>\n",
       "      <th>madori</th>\n",
       "      <th>menseki</th>\n",
       "    </tr>\n",
       "  </thead>\n",
       "  <tbody>\n",
       "    <tr>\n",
       "      <th>0</th>\n",
       "      <td>レジディア神田淡路町</td>\n",
       "      <td>東京都千代田区神田淡路町２</td>\n",
       "      <td>\\r\\n\\t\\t\\t\\t\\t\\t\\t\\t\\t\\t\\t8階</td>\n",
       "      <td>23万円</td>\n",
       "      <td>15000円</td>\n",
       "      <td>23万円</td>\n",
       "      <td>23万円</td>\n",
       "      <td>2DK</td>\n",
       "      <td>41.8m2</td>\n",
       "    </tr>\n",
       "    <tr>\n",
       "      <th>1</th>\n",
       "      <td>デュオ・スカーラ御茶ノ水II</td>\n",
       "      <td>東京都千代田区神田淡路町１</td>\n",
       "      <td>\\r\\n\\t\\t\\t\\t\\t\\t\\t\\t\\t\\t\\t3階</td>\n",
       "      <td>15.5万円</td>\n",
       "      <td>10000円</td>\n",
       "      <td>15.5万円</td>\n",
       "      <td>15.5万円</td>\n",
       "      <td>2K</td>\n",
       "      <td>35.36m2</td>\n",
       "    </tr>\n",
       "    <tr>\n",
       "      <th>2</th>\n",
       "      <td>東京メトロ丸ノ内線 淡路町駅 8階建 築20年</td>\n",
       "      <td>東京都千代田区神田須田町１</td>\n",
       "      <td>\\r\\n\\t\\t\\t\\t\\t\\t\\t\\t\\t\\t\\t6階</td>\n",
       "      <td>14万円</td>\n",
       "      <td>10000円</td>\n",
       "      <td>14万円</td>\n",
       "      <td>14万円</td>\n",
       "      <td>2DK</td>\n",
       "      <td>36.88m2</td>\n",
       "    </tr>\n",
       "    <tr>\n",
       "      <th>3</th>\n",
       "      <td>内木ビル</td>\n",
       "      <td>東京都墨田区江東橋４</td>\n",
       "      <td>\\r\\n\\t\\t\\t\\t\\t\\t\\t\\t\\t\\t\\t4階</td>\n",
       "      <td>9万円</td>\n",
       "      <td>-</td>\n",
       "      <td>9万円</td>\n",
       "      <td>-</td>\n",
       "      <td>2DK</td>\n",
       "      <td>35m2</td>\n",
       "    </tr>\n",
       "    <tr>\n",
       "      <th>4</th>\n",
       "      <td>東京メトロ半蔵門線 錦糸町駅 4階建 築57年</td>\n",
       "      <td>東京都墨田区江東橋４</td>\n",
       "      <td>\\r\\n\\t\\t\\t\\t\\t\\t\\t\\t\\t\\t\\t4階</td>\n",
       "      <td>9万円</td>\n",
       "      <td>-</td>\n",
       "      <td>9万円</td>\n",
       "      <td>-</td>\n",
       "      <td>2DK</td>\n",
       "      <td>37.26m2</td>\n",
       "    </tr>\n",
       "  </tbody>\n",
       "</table>\n",
       "</div>"
      ],
      "text/plain": [
       "                      name        address                         floor  \\\n",
       "0               レジディア神田淡路町  東京都千代田区神田淡路町２  \\r\\n\\t\\t\\t\\t\\t\\t\\t\\t\\t\\t\\t8階   \n",
       "1           デュオ・スカーラ御茶ノ水II  東京都千代田区神田淡路町１  \\r\\n\\t\\t\\t\\t\\t\\t\\t\\t\\t\\t\\t3階   \n",
       "2  東京メトロ丸ノ内線 淡路町駅 8階建 築20年  東京都千代田区神田須田町１  \\r\\n\\t\\t\\t\\t\\t\\t\\t\\t\\t\\t\\t6階   \n",
       "3                     内木ビル     東京都墨田区江東橋４  \\r\\n\\t\\t\\t\\t\\t\\t\\t\\t\\t\\t\\t4階   \n",
       "4  東京メトロ半蔵門線 錦糸町駅 4階建 築57年     東京都墨田区江東橋４  \\r\\n\\t\\t\\t\\t\\t\\t\\t\\t\\t\\t\\t4階   \n",
       "\n",
       "     rent administration deposit gratuity madori  menseki  \n",
       "0    23万円         15000円    23万円     23万円    2DK   41.8m2  \n",
       "1  15.5万円         10000円  15.5万円   15.5万円     2K  35.36m2  \n",
       "2    14万円         10000円    14万円     14万円    2DK  36.88m2  \n",
       "3     9万円              -     9万円        -    2DK     35m2  \n",
       "4     9万円              -     9万円        -    2DK  37.26m2  "
      ]
     },
     "execution_count": 8,
     "metadata": {},
     "output_type": "execute_result"
    }
   ],
   "source": [
    "#データ確認\n",
    "df.head()"
   ]
  },
  {
   "cell_type": "code",
   "execution_count": 11,
   "metadata": {},
   "outputs": [],
   "source": [
    "#DB全体の不要な文字を取り除く\n",
    "def remove_unwanted_chars(text):\n",
    "    if isinstance(text, str):\n",
    "        return re.sub('[\\n\\r\\t]', '', text)\n",
    "    return text\n",
    "\n",
    "# データフレームのすべての要素に関数を適用\n",
    "df = df.applymap(remove_unwanted_chars)"
   ]
  },
  {
   "cell_type": "code",
   "execution_count": 12,
   "metadata": {},
   "outputs": [],
   "source": [
    "df['floor'] = df['floor'].str.replace('階', '') #floorのデータの表現を統一"
   ]
  },
  {
   "cell_type": "code",
   "execution_count": 13,
   "metadata": {},
   "outputs": [],
   "source": [
    "#お金（rent, administration\t, deposit, gratuity）を整数型に変換\n",
    "def yen_to_int(text):\n",
    "    try:\n",
    "        text = str(text)\n",
    "\n",
    "        if '-' in text:\n",
    "            amount = 0\n",
    "        elif '万円' in text:\n",
    "            amount = float(text.replace('万円', '')) * 10000\n",
    "        else:\n",
    "            amount = float(text.replace('円', ''))\n",
    "    except ValueError:\n",
    "        amount = 0 # 形式に一致しない場合は0を返す\n",
    "    return int(amount)\n",
    "\n",
    "df['rent'] = df['rent'].apply(yen_to_int)\n",
    "df['administration'] = df['administration'].apply(yen_to_int)\n",
    "df['deposit'] = df['deposit'].apply(yen_to_int)\n",
    "df['gratuity'] = df['gratuity'].apply(yen_to_int)"
   ]
  },
  {
   "cell_type": "code",
   "execution_count": 14,
   "metadata": {},
   "outputs": [
    {
     "data": {
      "text/html": [
       "<div>\n",
       "<style scoped>\n",
       "    .dataframe tbody tr th:only-of-type {\n",
       "        vertical-align: middle;\n",
       "    }\n",
       "\n",
       "    .dataframe tbody tr th {\n",
       "        vertical-align: top;\n",
       "    }\n",
       "\n",
       "    .dataframe thead th {\n",
       "        text-align: right;\n",
       "    }\n",
       "</style>\n",
       "<table border=\"1\" class=\"dataframe\">\n",
       "  <thead>\n",
       "    <tr style=\"text-align: right;\">\n",
       "      <th></th>\n",
       "      <th>name</th>\n",
       "      <th>address</th>\n",
       "      <th>floor</th>\n",
       "      <th>rent</th>\n",
       "      <th>administration</th>\n",
       "      <th>deposit</th>\n",
       "      <th>gratuity</th>\n",
       "      <th>madori</th>\n",
       "      <th>menseki</th>\n",
       "    </tr>\n",
       "  </thead>\n",
       "  <tbody>\n",
       "    <tr>\n",
       "      <th>0</th>\n",
       "      <td>レジディア神田淡路町</td>\n",
       "      <td>東京都千代田区神田淡路町２</td>\n",
       "      <td>8</td>\n",
       "      <td>230000</td>\n",
       "      <td>15000</td>\n",
       "      <td>230000</td>\n",
       "      <td>230000</td>\n",
       "      <td>2DK</td>\n",
       "      <td>41.80</td>\n",
       "    </tr>\n",
       "    <tr>\n",
       "      <th>1</th>\n",
       "      <td>デュオ・スカーラ御茶ノ水II</td>\n",
       "      <td>東京都千代田区神田淡路町１</td>\n",
       "      <td>3</td>\n",
       "      <td>155000</td>\n",
       "      <td>10000</td>\n",
       "      <td>155000</td>\n",
       "      <td>155000</td>\n",
       "      <td>2K</td>\n",
       "      <td>35.36</td>\n",
       "    </tr>\n",
       "    <tr>\n",
       "      <th>2</th>\n",
       "      <td>東京メトロ丸ノ内線 淡路町駅 8階建 築20年</td>\n",
       "      <td>東京都千代田区神田須田町１</td>\n",
       "      <td>6</td>\n",
       "      <td>140000</td>\n",
       "      <td>10000</td>\n",
       "      <td>140000</td>\n",
       "      <td>140000</td>\n",
       "      <td>2DK</td>\n",
       "      <td>36.88</td>\n",
       "    </tr>\n",
       "    <tr>\n",
       "      <th>3</th>\n",
       "      <td>内木ビル</td>\n",
       "      <td>東京都墨田区江東橋４</td>\n",
       "      <td>4</td>\n",
       "      <td>90000</td>\n",
       "      <td>0</td>\n",
       "      <td>90000</td>\n",
       "      <td>0</td>\n",
       "      <td>2DK</td>\n",
       "      <td>35.00</td>\n",
       "    </tr>\n",
       "    <tr>\n",
       "      <th>4</th>\n",
       "      <td>東京メトロ半蔵門線 錦糸町駅 4階建 築57年</td>\n",
       "      <td>東京都墨田区江東橋４</td>\n",
       "      <td>4</td>\n",
       "      <td>90000</td>\n",
       "      <td>0</td>\n",
       "      <td>90000</td>\n",
       "      <td>0</td>\n",
       "      <td>2DK</td>\n",
       "      <td>37.26</td>\n",
       "    </tr>\n",
       "  </tbody>\n",
       "</table>\n",
       "</div>"
      ],
      "text/plain": [
       "                      name        address floor    rent  administration  \\\n",
       "0               レジディア神田淡路町  東京都千代田区神田淡路町２     8  230000           15000   \n",
       "1           デュオ・スカーラ御茶ノ水II  東京都千代田区神田淡路町１     3  155000           10000   \n",
       "2  東京メトロ丸ノ内線 淡路町駅 8階建 築20年  東京都千代田区神田須田町１     6  140000           10000   \n",
       "3                     内木ビル     東京都墨田区江東橋４     4   90000               0   \n",
       "4  東京メトロ半蔵門線 錦糸町駅 4階建 築57年     東京都墨田区江東橋４     4   90000               0   \n",
       "\n",
       "   deposit  gratuity madori  menseki  \n",
       "0   230000    230000    2DK    41.80  \n",
       "1   155000    155000     2K    35.36  \n",
       "2   140000    140000    2DK    36.88  \n",
       "3    90000         0    2DK    35.00  \n",
       "4    90000         0    2DK    37.26  "
      ]
     },
     "execution_count": 14,
     "metadata": {},
     "output_type": "execute_result"
    }
   ],
   "source": [
    "#mensekiのデータ（比例尺度）に変換\n",
    "df['menseki'] = df['menseki'].str.replace('m2','').astype(float)\n",
    "\n",
    "df.head()"
   ]
  },
  {
   "cell_type": "code",
   "execution_count": 15,
   "metadata": {},
   "outputs": [
    {
     "name": "stdout",
     "output_type": "stream",
     "text": [
      "重複件数: 339\n",
      "                         name        address floor    rent  administration  \\\n",
      "6     東京メトロ丸ノ内線 淡路町駅 12階建 築9年  東京都千代田区神田淡路町２     8  230000           15000   \n",
      "8        都営三田線 水道橋駅 16階建 築54年      東京都文京区本郷１    10  198000           12000   \n",
      "15      ＪＲ総武線快速 錦糸町駅 8階建 築46年     東京都墨田区江東橋２     5   93000               0   \n",
      "19                   パークサイド関口      東京都墨田区錦糸４     7  110000               0   \n",
      "23      都営浅草線 東日本橋駅 11階建 築41年    東京都中央区東日本橋２     7  195000               0   \n",
      "..                        ...            ...   ...     ...             ...   \n",
      "364                      柏倉ビル    東京都荒川区東日暮里５     3  110000               0   \n",
      "365               シャルムコート東日本橋    東京都中央区東日本橋２     6  228000           18000   \n",
      "366   東京メトロ丸ノ内線 淡路町駅 13階建 築7年  東京都千代田区神田美土代町     7  160000           10000   \n",
      "367  東京メトロ日比谷線 八丁堀駅 12階建 築19年      東京都中央区新川２     3  179000           16000   \n",
      "368  東京メトロ丸ノ内線 淡路町駅 12階建 築16年  東京都千代田区神田淡路町１     6  166000           10000   \n",
      "\n",
      "     deposit  gratuity madori  menseki  \n",
      "6     230000    230000    2DK    41.80  \n",
      "8     198000    198000   2LDK    95.43  \n",
      "15     93000     93000    2DK    40.46  \n",
      "19    110000    110000     2K    33.78  \n",
      "23    195000         0   2LDK    53.40  \n",
      "..       ...       ...    ...      ...  \n",
      "364   110000    110000     2K    37.00  \n",
      "365        0    456000    2SK    51.57  \n",
      "366   160000    240000     2K    32.82  \n",
      "367   179000    179000   2LDK    52.86  \n",
      "368   166000    166000     2K    44.02  \n",
      "\n",
      "[339 rows x 9 columns]\n"
     ]
    }
   ],
   "source": [
    "# 特定の列に基づいて重複を確認\n",
    "duplicate_rows = df[df.duplicated(subset=['address',  'floor', 'rent', 'menseki'])]\n",
    "\n",
    "# 重複件数の表示\n",
    "print(f\"重複件数: {duplicate_rows.shape[0]}\")\n",
    "\n",
    "# 重複データの表示\n",
    "print(duplicate_rows)"
   ]
  },
  {
   "cell_type": "code",
   "execution_count": 16,
   "metadata": {},
   "outputs": [],
   "source": [
    "# 重複データの削除\n",
    "df.drop_duplicates(subset=['address', 'floor', 'rent', 'menseki'], inplace=True)"
   ]
  },
  {
   "cell_type": "code",
   "execution_count": 19,
   "metadata": {},
   "outputs": [
    {
     "name": "stderr",
     "output_type": "stream",
     "text": [
      "C:\\Users\\user\\AppData\\Local\\Temp\\ipykernel_8104\\4152035202.py:20: DeprecationWarning: [Deprecated][in version 6.0.0]: Method signature's arguments 'range_name' and 'values' will change their order. We recommend using named arguments for minimal impact. In addition, the argument 'values' will be mandatory of type: 'List[List]'. (ex) Worksheet.update(values = [[]], range_name=) \n",
      "  worksheet.update([df.columns.values.tolist()] + df.values.tolist())\n"
     ]
    },
    {
     "data": {
      "text/plain": [
       "{'spreadsheetId': '1zWKnfAq6sBT4kjeWJ42W-5yBGeevcisgS6yPUph1qw8',\n",
       " 'updatedRange': 'suumo_lowdata!A1:I31',\n",
       " 'updatedRows': 31,\n",
       " 'updatedColumns': 9,\n",
       " 'updatedCells': 279}"
      ]
     },
     "execution_count": 19,
     "metadata": {},
     "output_type": "execute_result"
    }
   ],
   "source": [
    "#スプレッドシートに転記\n",
    "import gspread \n",
    "from oauth2client.service_account import ServiceAccountCredentials\n",
    "SP_CREDENTIAL_FILE = \"tech0-step3-suumo-data-27327b44e1bb.json\"\n",
    "SP_COPE = [\n",
    "    \"https://www.googleapis.com/auth/drive\",\n",
    "    \"https://spreadsheets.google.com/feeds\"\n",
    "]\n",
    "SP_SHEET_ID = \"1zWKnfAq6sBT4kjeWJ42W-5yBGeevcisgS6yPUph1qw8\"\n",
    "SP_SHEET=\"suumo_lowdata\"\n",
    "\n",
    "credentials = ServiceAccountCredentials.from_json_keyfile_name(SP_CREDENTIAL_FILE, SP_COPE)\n",
    "gc = gspread.authorize(credentials)\n",
    "\n",
    "sh = gc.open_by_key(SP_SHEET_ID)\n",
    "worksheet = sh.worksheet(SP_SHEET)\n",
    "\n",
    "worksheet.clear()\n",
    "\n",
    "worksheet.update([df.columns.values.tolist()] + df.values.tolist())"
   ]
  }
 ],
 "metadata": {
  "kernelspec": {
   "display_name": "Python 3",
   "language": "python",
   "name": "python3"
  },
  "language_info": {
   "codemirror_mode": {
    "name": "ipython",
    "version": 3
   },
   "file_extension": ".py",
   "mimetype": "text/x-python",
   "name": "python",
   "nbconvert_exporter": "python",
   "pygments_lexer": "ipython3",
   "version": "3.11.4"
  }
 },
 "nbformat": 4,
 "nbformat_minor": 2
}
